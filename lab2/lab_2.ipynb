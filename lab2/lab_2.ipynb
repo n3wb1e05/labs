{
 "cells": [
  {
   "cell_type": "markdown",
   "id": "6db20972-30f0-4bc7-903c-48101c15e667",
   "metadata": {},
   "source": [
    "# Лабораторна робота No2\n",
    "Наука про дані: підготовчий етап\n",
    "\n",
    "Мета роботи: ознайомитися з основними кроками по роботі з даними –\n",
    "workflow від постановки задачі до написання пояснювальної записки,\n",
    "зрозуміти постановку задачі та природу даних, над якими виконується\n",
    "аналітичні операції\n",
    "Основні поняття: сирі дані (raw data), підготовка даних (data preparation)\n",
    "\n",
    "ФБ-21 Шабанов Кирило"
   ]
  },
  {
   "cell_type": "markdown",
   "id": "3a035a42-87b5-4aef-8e0d-d26633cd7907",
   "metadata": {},
   "source": [
    "Імпортуємо всі необхідні бібліотеки"
   ]
  },
  {
   "cell_type": "code",
   "execution_count": 1,
   "id": "15ccbc36-7d14-4cd6-a2a1-21195f27aa7d",
   "metadata": {},
   "outputs": [
    {
     "name": "stderr",
     "output_type": "stream",
     "text": [
      "C:\\Users\\student05\\AppData\\Local\\Temp\\ipykernel_5300\\957402174.py:1: DeprecationWarning: \n",
      "Pyarrow will become a required dependency of pandas in the next major release of pandas (pandas 3.0),\n",
      "(to allow more performant data types, such as the Arrow string type, and better interoperability with other libraries)\n",
      "but was not found to be installed on your system.\n",
      "If this would cause problems for you,\n",
      "please provide us feedback at https://github.com/pandas-dev/pandas/issues/54466\n",
      "        \n",
      "  import pandas as pd\n"
     ]
    }
   ],
   "source": [
    "import pandas as pd\n",
    "import datetime\n",
    "import os\n",
    "from urllib.request import urlopen "
   ]
  },
  {
   "cell_type": "markdown",
   "id": "4df792d5-20e8-4272-8d7a-1b727c473000",
   "metadata": {},
   "source": [
    "1. Для кожної із адміністративних одиниць України завантажити тестові структуровані файли, що містять значення VHI-індексу. Ця процедура має бути автоматизована, параметром процедури має бути індекс (номер) області. При зберіганні файлу до його імені потрібно додати дату та час завантаження;"
   ]
  },
  {
   "cell_type": "code",
   "execution_count": 2,
   "id": "c3adee5b-4248-46eb-8544-8048d62577c9",
   "metadata": {},
   "outputs": [],
   "source": [
    "# def download_data(i):\n",
    "#     with urlopen(f'https://www.star.nesdis.noaa.gov/smcd/emb/vci/VH/get_TS_admin.php?country=UKR&provinceID={i}&year1=1981&year2=2024&type=Mean') as date:\n",
    "#         info = date.read()\n",
    "\n",
    "#     now = datetime.datetime.now()\n",
    "#     timen = now.strftime(\"%d%m%Y%H%M%S\")\n",
    "    \n",
    "#     with open(f'obl_{i}_{timen}.csv', 'wb') as fl:\n",
    "#         fl.write(info)\n",
    "\n",
    "# for i in range(1,28):\n",
    "#     download_data(i)"
   ]
  },
  {
   "cell_type": "markdown",
   "id": "b807b7ce-fc30-4459-a732-98c2c364f8ec",
   "metadata": {},
   "source": [
    "2. Зчитати завантажені текстові файли у фрейм (детальніше про роботу із фреймами буде розказано у подальших лабораторних роботах). Імена стовбців фрейму мають бути змістовними та легкими для сприйняття (не повинно бути спеціалізованих символів, пробілів тощо). Ця задача має бути реалізована у вигляді окремої процедури, яка на вхід приймає шлях до директорії, в якій зберігаються файли;"
   ]
  },
  {
   "cell_type": "code",
   "execution_count": 27,
   "id": "4ea7350e-a7d1-4293-8cee-55d17fbf437a",
   "metadata": {},
   "outputs": [
    {
     "data": {
      "text/html": [
       "<div>\n",
       "<style scoped>\n",
       "    .dataframe tbody tr th:only-of-type {\n",
       "        vertical-align: middle;\n",
       "    }\n",
       "\n",
       "    .dataframe tbody tr th {\n",
       "        vertical-align: top;\n",
       "    }\n",
       "\n",
       "    .dataframe thead th {\n",
       "        text-align: right;\n",
       "    }\n",
       "</style>\n",
       "<table border=\"1\" class=\"dataframe\">\n",
       "  <thead>\n",
       "    <tr style=\"text-align: right;\">\n",
       "      <th></th>\n",
       "      <th>Year</th>\n",
       "      <th>Week</th>\n",
       "      <th>SMN</th>\n",
       "      <th>SMT</th>\n",
       "      <th>VCI</th>\n",
       "      <th>TCI</th>\n",
       "      <th>VHI</th>\n",
       "      <th>area</th>\n",
       "    </tr>\n",
       "  </thead>\n",
       "  <tbody>\n",
       "    <tr>\n",
       "      <th>0</th>\n",
       "      <td>1982</td>\n",
       "      <td>1.0</td>\n",
       "      <td>0.059</td>\n",
       "      <td>258.24</td>\n",
       "      <td>51.11</td>\n",
       "      <td>48.78</td>\n",
       "      <td>49.95</td>\n",
       "      <td>10</td>\n",
       "    </tr>\n",
       "    <tr>\n",
       "      <th>1</th>\n",
       "      <td>1982</td>\n",
       "      <td>2.0</td>\n",
       "      <td>0.063</td>\n",
       "      <td>261.53</td>\n",
       "      <td>55.89</td>\n",
       "      <td>38.20</td>\n",
       "      <td>47.04</td>\n",
       "      <td>10</td>\n",
       "    </tr>\n",
       "    <tr>\n",
       "      <th>2</th>\n",
       "      <td>1982</td>\n",
       "      <td>3.0</td>\n",
       "      <td>0.063</td>\n",
       "      <td>263.45</td>\n",
       "      <td>57.30</td>\n",
       "      <td>32.69</td>\n",
       "      <td>44.99</td>\n",
       "      <td>10</td>\n",
       "    </tr>\n",
       "    <tr>\n",
       "      <th>3</th>\n",
       "      <td>1982</td>\n",
       "      <td>4.0</td>\n",
       "      <td>0.061</td>\n",
       "      <td>265.10</td>\n",
       "      <td>53.96</td>\n",
       "      <td>28.62</td>\n",
       "      <td>41.29</td>\n",
       "      <td>10</td>\n",
       "    </tr>\n",
       "    <tr>\n",
       "      <th>4</th>\n",
       "      <td>1982</td>\n",
       "      <td>5.0</td>\n",
       "      <td>0.058</td>\n",
       "      <td>266.42</td>\n",
       "      <td>46.87</td>\n",
       "      <td>28.57</td>\n",
       "      <td>37.72</td>\n",
       "      <td>10</td>\n",
       "    </tr>\n",
       "    <tr>\n",
       "      <th>...</th>\n",
       "      <td>...</td>\n",
       "      <td>...</td>\n",
       "      <td>...</td>\n",
       "      <td>...</td>\n",
       "      <td>...</td>\n",
       "      <td>...</td>\n",
       "      <td>...</td>\n",
       "      <td>...</td>\n",
       "    </tr>\n",
       "    <tr>\n",
       "      <th>57964</th>\n",
       "      <td>2024</td>\n",
       "      <td>9.0</td>\n",
       "      <td>0.152</td>\n",
       "      <td>284.35</td>\n",
       "      <td>64.56</td>\n",
       "      <td>2.42</td>\n",
       "      <td>33.49</td>\n",
       "      <td>9</td>\n",
       "    </tr>\n",
       "    <tr>\n",
       "      <th>57965</th>\n",
       "      <td>2024</td>\n",
       "      <td>10.0</td>\n",
       "      <td>0.167</td>\n",
       "      <td>286.52</td>\n",
       "      <td>64.04</td>\n",
       "      <td>2.70</td>\n",
       "      <td>33.37</td>\n",
       "      <td>9</td>\n",
       "    </tr>\n",
       "    <tr>\n",
       "      <th>57966</th>\n",
       "      <td>2024</td>\n",
       "      <td>11.0</td>\n",
       "      <td>0.179</td>\n",
       "      <td>288.09</td>\n",
       "      <td>62.75</td>\n",
       "      <td>3.03</td>\n",
       "      <td>32.89</td>\n",
       "      <td>9</td>\n",
       "    </tr>\n",
       "    <tr>\n",
       "      <th>57967</th>\n",
       "      <td>2024</td>\n",
       "      <td>12.0</td>\n",
       "      <td>0.193</td>\n",
       "      <td>289.61</td>\n",
       "      <td>62.78</td>\n",
       "      <td>4.37</td>\n",
       "      <td>33.57</td>\n",
       "      <td>9</td>\n",
       "    </tr>\n",
       "    <tr>\n",
       "      <th>57968</th>\n",
       "      <td>2024</td>\n",
       "      <td>13.0</td>\n",
       "      <td>0.203</td>\n",
       "      <td>290.96</td>\n",
       "      <td>61.15</td>\n",
       "      <td>7.87</td>\n",
       "      <td>34.51</td>\n",
       "      <td>9</td>\n",
       "    </tr>\n",
       "  </tbody>\n",
       "</table>\n",
       "<p>57969 rows × 8 columns</p>\n",
       "</div>"
      ],
      "text/plain": [
       "       Year  Week    SMN     SMT    VCI    TCI    VHI area\n",
       "0      1982   1.0  0.059  258.24  51.11  48.78  49.95   10\n",
       "1      1982   2.0  0.063  261.53  55.89  38.20  47.04   10\n",
       "2      1982   3.0  0.063  263.45  57.30  32.69  44.99   10\n",
       "3      1982   4.0  0.061  265.10  53.96  28.62  41.29   10\n",
       "4      1982   5.0  0.058  266.42  46.87  28.57  37.72   10\n",
       "...     ...   ...    ...     ...    ...    ...    ...  ...\n",
       "57964  2024   9.0  0.152  284.35  64.56   2.42  33.49    9\n",
       "57965  2024  10.0  0.167  286.52  64.04   2.70  33.37    9\n",
       "57966  2024  11.0  0.179  288.09  62.75   3.03  32.89    9\n",
       "57967  2024  12.0  0.193  289.61  62.78   4.37  33.57    9\n",
       "57968  2024  13.0  0.203  290.96  61.15   7.87  34.51    9\n",
       "\n",
       "[57969 rows x 8 columns]"
      ]
     },
     "execution_count": 27,
     "metadata": {},
     "output_type": "execute_result"
    }
   ],
   "source": [
    "def normalizer_data(file):\n",
    "    df = pd.read_csv(file,header = 1,names = ['Year', 'Week', 'SMN', 'SMT', 'VCI', 'TCI', 'VHI', 'empty'])\n",
    "    df = df.drop(index=df.shape[0]-1)\n",
    "    df['Year'] = df['Year'].str.replace('<tt><pre>', '')\n",
    "    return df\n",
    "\n",
    "\n",
    "\n",
    "def create_dataframe():\n",
    "    listdataframes = []\n",
    "    for i in os.listdir('.'):\n",
    "        if not '.csv' in i:\n",
    "            continue\n",
    "    \n",
    "        df = normalizer_data(f'{i}')\n",
    "        df = df.drop(df.loc[df['VHI'] == -1].index)\n",
    "        df['area'] = (i.split('_'))[1]\n",
    "        listdataframes.append(df)\n",
    "    result = pd.concat(listdataframes).drop_duplicates().reset_index(drop=True)\n",
    "    result.drop(columns=['empty'], inplace=True)\n",
    "    return result\n",
    "\n",
    "result = create_dataframe()\n",
    "\n",
    "result"
   ]
  },
  {
   "cell_type": "markdown",
   "id": "a1337363-16a8-4cd4-abbc-30bc0c0ec84d",
   "metadata": {},
   "source": [
    "3. Реалізувати процедуру, яка змінить індекси областей, які використані \n",
    "на порталі NOAA навказаніРеспубліка Крим"
   ]
  },
  {
   "cell_type": "code",
   "execution_count": 28,
   "id": "8ce9e113-fe1b-4116-abea-850f6f9db566",
   "metadata": {},
   "outputs": [
    {
     "name": "stdout",
     "output_type": "stream",
     "text": [
      "{'1': 22, '2': 24, '3': 23, '4': 25, '5': 3, '6': 4, '7': 8, '8': 19, '9': 20, '10': 21, '11': 9, '12': 9, '13': 10, '14': 11, '15': 12, '16': 13, '17': 14, '18': 15, '19': 16, '20': 25, '21': 17, '22': 18, '23': 6, '24': 1, '25': 2, '26': 7, '27': 5}\n",
      "       Year  Week    SMN     SMT    VCI    TCI    VHI  area\n",
      "0      1982   1.0  0.059  258.24  51.11  48.78  49.95    21\n",
      "1      1982   2.0  0.063  261.53  55.89  38.20  47.04    21\n",
      "2      1982   3.0  0.063  263.45  57.30  32.69  44.99    21\n",
      "3      1982   4.0  0.061  265.10  53.96  28.62  41.29    21\n",
      "4      1982   5.0  0.058  266.42  46.87  28.57  37.72    21\n",
      "...     ...   ...    ...     ...    ...    ...    ...   ...\n",
      "57964  2024   9.0  0.152  284.35  64.56   2.42  33.49    20\n",
      "57965  2024  10.0  0.167  286.52  64.04   2.70  33.37    20\n",
      "57966  2024  11.0  0.179  288.09  62.75   3.03  32.89    20\n",
      "57967  2024  12.0  0.193  289.61  62.78   4.37  33.57    20\n",
      "57968  2024  13.0  0.203  290.96  61.15   7.87  34.51    20\n",
      "\n",
      "[57969 rows x 8 columns]\n"
     ]
    },
    {
     "name": "stderr",
     "output_type": "stream",
     "text": [
      "C:\\Users\\student05\\AppData\\Local\\Temp\\ipykernel_5300\\2737691819.py:6: FutureWarning: Downcasting behavior in `replace` is deprecated and will be removed in a future version. To retain the old behavior, explicitly call `result.infer_objects(copy=False)`. To opt-in to the future behavior, set `pd.set_option('future.no_silent_downcasting', True)`\n",
      "  df['area'] = df['area'].replace(arr)\n"
     ]
    }
   ],
   "source": [
    "def change_index(df):\n",
    "    chang_index = [22,24,23,25,3,4,8,19,20,21,9,9,10,11,12,13,14,15,16,25,17,18,6,1,2,7,5]\n",
    "    \n",
    "    arr = {str(i):chang_index[i-1] for i in range(1,28)}\n",
    "    print(arr)\n",
    "    df['area'] = df['area'].replace(arr)\n",
    "    print(df)\n",
    "\n",
    "\n",
    "change_index(result)"
   ]
  },
  {
   "cell_type": "code",
   "execution_count": null,
   "id": "961aad29-25ac-49cc-a4f6-f1809902e524",
   "metadata": {},
   "outputs": [],
   "source": [
    "result.to_csv('VHI_index.csv')"
   ]
  },
  {
   "cell_type": "markdown",
   "id": "2207a46a-7762-4ad8-9127-9e96813c8b0e",
   "metadata": {},
   "source": [
    "4. Реалізувати процедури для формування вибірок наступного виду (включаючи елементи аналізу): Ряд VHI для області за вказаний рік, пошук екстремумів (min та max)их посух"
   ]
  },
  {
   "cell_type": "code",
   "execution_count": 29,
   "id": "9069df24-db48-4889-856d-812ffaa38d72",
   "metadata": {},
   "outputs": [
    {
     "name": "stdout",
     "output_type": "stream",
     "text": [
      "Max vhi for 1982 51.83\n",
      "Min vhi for 1982 22.82\n"
     ]
    }
   ],
   "source": [
    "def max_series_vhi(df, area, year):\n",
    "    vhi = df[(df[\"area\"]==area) & (df[\"Year\"]==year)]['VHI']\n",
    "    return vhi.max()\n",
    "\n",
    "def min_series_vhi(df, area, year):\n",
    "    vhi = df[(df[\"area\"]==area) & (df[\"Year\"]==year)]['VHI']\n",
    "    return vhi.min()\n",
    "\n",
    "\n",
    "print('Max vhi for 1982',max_series_vhi(result, 21, '1982'))\n",
    "\n",
    "print('Min vhi for 1982',min_series_vhi(result, 21, '1982'))"
   ]
  },
  {
   "cell_type": "markdown",
   "id": "4264b0b5-e4e5-477e-9f4e-3c01a891beb9",
   "metadata": {},
   "source": [
    "Ряд VHI за вказаний діапазон років для вказаних областей; \n",
    "виявити роки, протягом яких екстремальні посухи торкнулис \r\n",
    "більше вказаного відсотка областей по Україні (20% областей -\r\n",
    "5 областей з 25);"
   ]
  },
  {
   "cell_type": "code",
   "execution_count": 31,
   "id": "15aaa691-b82a-4818-9070-792d6a5d80c0",
   "metadata": {},
   "outputs": [
    {
     "data": {
      "text/plain": [
       "['1986', '1993', '2000', '2007']"
      ]
     },
     "execution_count": 31,
     "metadata": {},
     "output_type": "execute_result"
    }
   ],
   "source": [
    "def extr_vhi_year(df, year, obl, proc):\n",
    "    vhi_index = df[(df['Year'].isin(year)) & (df['area'].isin(obl))]\n",
    "    years = []\n",
    "    for i in year:\n",
    "        df_with_extr_vhi = vhi_index[(vhi_index['VHI']<15) & (vhi_index['Year']==i)]\n",
    "        total_area_with_extr_vhi = len(df_with_extr_vhi.area.unique())\n",
    "        total_area = len(vhi_index.area.unique())\n",
    "        proc_for_year = (total_area_with_extr_vhi*100)/total_area\n",
    "        if proc_for_year>proc:\n",
    "            years.append(i)\n",
    "\n",
    "    return years\n",
    "years = [str(i) for i in range(1982,2020)]\n",
    "extr_vhi_year(result, years, list(range(1,26)), 4)"
   ]
  },
  {
   "cell_type": "markdown",
   "id": "0d14da8f-3295-40f7-9c87-e434249cd6ff",
   "metadata": {},
   "source": [
    "Аналогічно для помірних посух"
   ]
  },
  {
   "cell_type": "code",
   "execution_count": 32,
   "id": "eb8c2649-5ccb-4bd8-a1fb-04268daa3947",
   "metadata": {},
   "outputs": [],
   "source": [
    "def mild_vhi_year(df, year, obl, proc):\n",
    "    vhi_index = df[(df['Year'].isin(year)) & (df['area'].isin(obl))].reset_index(drop=True)\n",
    "    years = []\n",
    "    for i in year:\n",
    "        df_with_extr_vhi = vhi_index[(vhi_index['VHI']<35) & (vhi_index['VHI']>15) &(vhi_index['Year']==i)]\n",
    "        total_area_with_extr_vhi = len(df_with_extr_vhi.area.unique())\n",
    "        total_area = len(vhi_index.area.unique())\n",
    "        proc_for_year = (total_area_with_extr_vhi*100)/total_area\n",
    "        if proc_for_year>proc:\n",
    "            years.append(i)\n",
    "    return years"
   ]
  },
  {
   "cell_type": "code",
   "execution_count": 33,
   "id": "52bc7c1a-3c6b-408b-9b62-8499fef7d684",
   "metadata": {},
   "outputs": [
    {
     "data": {
      "text/plain": [
       "['1982',\n",
       " '1983',\n",
       " '1984',\n",
       " '1985',\n",
       " '1986',\n",
       " '1989',\n",
       " '1990',\n",
       " '1992',\n",
       " '1993',\n",
       " '1995',\n",
       " '1996',\n",
       " '2000',\n",
       " '2015',\n",
       " '2019']"
      ]
     },
     "execution_count": 33,
     "metadata": {},
     "output_type": "execute_result"
    }
   ],
   "source": [
    "mild_vhi_year(result, years, list(range(1,26)), 90)"
   ]
  },
  {
   "cell_type": "code",
   "execution_count": null,
   "id": "3263f750-6bd1-4e3b-97fd-4687e12226e9",
   "metadata": {},
   "outputs": [],
   "source": []
  }
 ],
 "metadata": {
  "kernelspec": {
   "display_name": "Python 3 (ipykernel)",
   "language": "python",
   "name": "python3"
  },
  "language_info": {
   "codemirror_mode": {
    "name": "ipython",
    "version": 3
   },
   "file_extension": ".py",
   "mimetype": "text/x-python",
   "name": "python",
   "nbconvert_exporter": "python",
   "pygments_lexer": "ipython3",
   "version": "3.11.4"
  }
 },
 "nbformat": 4,
 "nbformat_minor": 5
}
